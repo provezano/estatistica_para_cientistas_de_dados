{
 "cells": [
  {
   "cell_type": "markdown",
   "metadata": {
    "ExecuteTime": {
     "end_time": "2020-11-02T16:59:13.704136Z",
     "start_time": "2020-11-02T16:59:13.701022Z"
    }
   },
   "source": [
    "## Bibliotecas"
   ]
  },
  {
   "cell_type": "code",
   "execution_count": 1,
   "metadata": {
    "ExecuteTime": {
     "end_time": "2020-11-17T00:39:58.143642Z",
     "start_time": "2020-11-17T00:39:54.803462Z"
    }
   },
   "outputs": [],
   "source": [
    "import numpy as np\n",
    "import pandas as pd\n",
    "import seaborn as sns\n",
    "from scipy import stats\n",
    "import weightedstats as ws\n",
    "import matplotlib.pyplot as plt"
   ]
  },
  {
   "cell_type": "markdown",
   "metadata": {
    "ExecuteTime": {
     "end_time": "2020-11-02T17:26:24.740732Z",
     "start_time": "2020-11-02T17:26:24.738449Z"
    }
   },
   "source": [
    "## 1.0 Leitura de Dados"
   ]
  },
  {
   "cell_type": "code",
   "execution_count": 2,
   "metadata": {
    "ExecuteTime": {
     "end_time": "2020-11-17T00:39:58.161688Z",
     "start_time": "2020-11-17T00:39:58.146219Z"
    }
   },
   "outputs": [],
   "source": [
    "df = pd.read_csv('dados/state.csv')\n",
    "df.columns = ['Estado', 'População', 'Taxa de Homicídio', 'UF']"
   ]
  },
  {
   "cell_type": "markdown",
   "metadata": {
    "ExecuteTime": {
     "end_time": "2020-11-02T17:29:07.181697Z",
     "start_time": "2020-11-02T17:29:07.179338Z"
    }
   },
   "source": [
    "## 1.1 Dimensões"
   ]
  },
  {
   "cell_type": "code",
   "execution_count": 3,
   "metadata": {
    "ExecuteTime": {
     "end_time": "2020-11-17T00:39:58.174378Z",
     "start_time": "2020-11-17T00:39:58.164643Z"
    }
   },
   "outputs": [
    {
     "name": "stdout",
     "output_type": "stream",
     "text": [
      "A base de dados possui 50 linhas e 4 colunas\n"
     ]
    }
   ],
   "source": [
    "print(\"A base de dados possui %d linhas e %d colunas\" % (df.shape))"
   ]
  },
  {
   "cell_type": "markdown",
   "metadata": {
    "ExecuteTime": {
     "end_time": "2020-11-02T17:29:59.164505Z",
     "start_time": "2020-11-02T17:29:59.161898Z"
    }
   },
   "source": [
    "## 1.2 Tipo de Dados"
   ]
  },
  {
   "cell_type": "code",
   "execution_count": 4,
   "metadata": {
    "ExecuteTime": {
     "end_time": "2020-11-17T00:39:58.188925Z",
     "start_time": "2020-11-17T00:39:58.177245Z"
    }
   },
   "outputs": [
    {
     "name": "stdout",
     "output_type": "stream",
     "text": [
      "O tipo de dados em cada coluna da base estão listados a seguir:\n"
     ]
    },
    {
     "data": {
      "text/plain": [
       "Estado                object\n",
       "População              int64\n",
       "Taxa de Homicídio    float64\n",
       "UF                    object\n",
       "dtype: object"
      ]
     },
     "execution_count": 4,
     "metadata": {},
     "output_type": "execute_result"
    }
   ],
   "source": [
    "print(\"O tipo de dados em cada coluna da base estão listados a seguir:\")\n",
    "df.dtypes"
   ]
  },
  {
   "cell_type": "markdown",
   "metadata": {},
   "source": [
    "## 2.0 Medidas de tendência central"
   ]
  },
  {
   "cell_type": "markdown",
   "metadata": {},
   "source": [
    "Essa seção contém exemplos de 6 medidas de tendência central.\n",
    "\n",
    "(1) Média\n",
    "(2) Média truncada\n",
    "(2) Média ponderada\n",
    "(3) Mediana\n",
    "(4) Mediana ponderada\n",
    "(5) Moda"
   ]
  },
  {
   "cell_type": "markdown",
   "metadata": {},
   "source": [
    "## 2.1 Medidas de tendência central"
   ]
  },
  {
   "cell_type": "code",
   "execution_count": 5,
   "metadata": {
    "ExecuteTime": {
     "end_time": "2020-11-17T00:39:58.202197Z",
     "start_time": "2020-11-17T00:39:58.193219Z"
    }
   },
   "outputs": [
    {
     "name": "stdout",
     "output_type": "stream",
     "text": [
      "Coluna: População\n",
      "-- -- --\n",
      "Média: 6162876.30\n",
      "Média aparada: 4783697.12\n",
      "Mediana: 4436369.50\n"
     ]
    }
   ],
   "source": [
    "coluna = \"População\"\n",
    "\n",
    "print(\"Coluna:\", coluna)\n",
    "print(\"-- -- --\")\n",
    "print(\"Média: %.2f\" % np.mean(df[coluna])) # .mean() no pandas\n",
    "print(\"Média aparada: %.2f\" % stats.trim_mean(df[coluna], proportiontocut=0.1))\n",
    "print(\"Mediana: %.2f\" % np.median(df[coluna])) # .median() no pandas"
   ]
  },
  {
   "cell_type": "code",
   "execution_count": 6,
   "metadata": {
    "ExecuteTime": {
     "end_time": "2020-11-17T00:39:58.214820Z",
     "start_time": "2020-11-17T00:39:58.204788Z"
    }
   },
   "outputs": [
    {
     "name": "stdout",
     "output_type": "stream",
     "text": [
      "Coluna: Taxa de Homicídio\n",
      "-- -- --\n",
      "Média: 4.07\n",
      "Média aparada: 3.95\n",
      "Mediana: 4.00\n",
      "-- -- --\n",
      "-- Ponderada pela coluna População\n",
      "-- -- --\n",
      "Média Ponderada: 4.45\n",
      "Mediana Ponderada: 4.40\n",
      "-- -- --\n"
     ]
    }
   ],
   "source": [
    "coluna = \"Taxa de Homicídio\"\n",
    "\n",
    "print(\"Coluna:\", coluna)\n",
    "print(\"-- -- --\")\n",
    "print(\"Média: %.2f\" % np.mean(df[coluna]))\n",
    "print(\"Média aparada: %.2f\" % stats.trim_mean(df[coluna], proportiontocut=0.1))\n",
    "print(\"Mediana: %.2f\" % np.median(df[coluna]))\n",
    "print(\"-- -- --\")\n",
    "print(\"-- Ponderada pela coluna População\")\n",
    "print(\"-- -- --\")\n",
    "print(\"Média Ponderada: %.2f\" % np.average(df[coluna], weights = df['População']))\n",
    "print(\"Mediana Ponderada: %.2f\" % ws.weighted_median(df[coluna], weights = df['População']))\n",
    "print(\"-- -- --\")"
   ]
  },
  {
   "cell_type": "code",
   "execution_count": 7,
   "metadata": {
    "ExecuteTime": {
     "end_time": "2020-11-17T00:39:58.229180Z",
     "start_time": "2020-11-17T00:39:58.217874Z"
    }
   },
   "outputs": [
    {
     "name": "stdout",
     "output_type": "stream",
     "text": [
      "Moda: 2.0\n",
      "Contagem: 13\n"
     ]
    }
   ],
   "source": [
    "df['TH_Arrend'] = round(df['Taxa de Homicídio'], 0)\n",
    "print(\"Moda:\", stats.mode((df['TH_Arrend']))[0][0])\n",
    "print(\"Contagem:\", stats.mode((df['TH_Arrend']))[1][0])"
   ]
  },
  {
   "cell_type": "markdown",
   "metadata": {},
   "source": [
    "## 2.2 Visualização de distruição de dados"
   ]
  },
  {
   "cell_type": "code",
   "execution_count": 8,
   "metadata": {
    "ExecuteTime": {
     "end_time": "2020-11-17T00:39:58.530805Z",
     "start_time": "2020-11-17T00:39:58.236139Z"
    }
   },
   "outputs": [
    {
     "name": "stdout",
     "output_type": "stream",
     "text": [
      "Distribuição e dados da coluna: População\n"
     ]
    },
    {
     "data": {
      "image/png": "[encoded data removed]",
      "text/plain": [
       "<Figure size 432x288 with 1 Axes>"
      ]
     },
     "metadata": {
      "needs_background": "light"
     },
     "output_type": "display_data"
    }
   ],
   "source": [
    "coluna = \"População\"\n",
    "\n",
    "ax = sns.histplot(df[coluna])\n",
    "\n",
    "ax.axvline(np.mean(df[coluna]), 0, 1.6, color='b')\n",
    "ax.axvline(np.median(df[coluna]), 0, 1.6, color='r')\n",
    "plt.xlim(0, df[coluna].max())\n",
    "\n",
    "print(\"Distribuição e dados da coluna:\", coluna)"
   ]
  },
  {
   "cell_type": "code",
   "execution_count": 9,
   "metadata": {
    "ExecuteTime": {
     "end_time": "2020-11-17T00:39:58.779765Z",
     "start_time": "2020-11-17T00:39:58.533387Z"
    },
    "scrolled": false
   },
   "outputs": [
    {
     "name": "stdout",
     "output_type": "stream",
     "text": [
      "Distribuição e dados da coluna: Taxa de Homicídio\n"
     ]
    },
    {
     "data": {
      "image/png": "[encoded data removed]",
      "text/plain": [
       "<Figure size 432x288 with 1 Axes>"
      ]
     },
     "metadata": {
      "needs_background": "light"
     },
     "output_type": "display_data"
    }
   ],
   "source": [
    "coluna = \"Taxa de Homicídio\"\n",
    "\n",
    "ax = sns.histplot(df[coluna])\n",
    "\n",
    "ax.axvline(np.mean(df[coluna]), 0, 1.6, color='b')\n",
    "ax.axvline(np.median(df[coluna]), 0, 1.6, color='r')\n",
    "plt.xlim(0, df[coluna].max())\n",
    "\n",
    "print(\"Distribuição e dados da coluna:\", coluna)"
   ]
  },
  {
   "cell_type": "markdown",
   "metadata": {
    "ExecuteTime": {
     "end_time": "2020-11-02T19:31:12.389831Z",
     "start_time": "2020-11-02T19:31:12.387123Z"
    }
   },
   "source": [
    "## 3.0 Medidas de dispersão"
   ]
  },
  {
   "cell_type": "markdown",
   "metadata": {
    "ExecuteTime": {
     "end_time": "2020-11-02T22:44:10.855398Z",
     "start_time": "2020-11-02T22:44:10.851027Z"
    }
   },
   "source": [
    "Essa seção contém exemplos de 6 medidas de dispersão:\n",
    "\n",
    "(1) Amplitude (2) Variância (3) Desvio Padrão (4) Desvio Médio Absoluto (5) Desvio Mediano Absoluto (6) Amplitude interquartílica"
   ]
  },
  {
   "cell_type": "code",
   "execution_count": 10,
   "metadata": {
    "ExecuteTime": {
     "end_time": "2020-11-17T00:39:58.787805Z",
     "start_time": "2020-11-17T00:39:58.782226Z"
    }
   },
   "outputs": [],
   "source": [
    "df_disp = pd.read_csv('dados/state.csv')\n",
    "df_disp.columns = ['Estado', 'População', 'Taxa de Homicídio', 'UF']"
   ]
  },
  {
   "cell_type": "code",
   "execution_count": 11,
   "metadata": {
    "ExecuteTime": {
     "end_time": "2020-11-17T00:39:58.799567Z",
     "start_time": "2020-11-17T00:39:58.789972Z"
    }
   },
   "outputs": [
    {
     "name": "stdout",
     "output_type": "stream",
     "text": [
      "Coluna: População\n",
      "-- -- --\n",
      "Amplitude: 36690330.00\n",
      "Variância: 45960360825926.56\n",
      "Desvio Padrão: 6848235.35\n",
      "Desvio Médio Absoluto: 4450933.36\n",
      "Desvio Mediano Absoluto: 3849876.15\n",
      "Amplitude interquartílica: 4847308.00\n"
     ]
    }
   ],
   "source": [
    "coluna = \"População\"\n",
    "\n",
    "print(\"Coluna:\", coluna)\n",
    "print(\"-- -- --\")\n",
    "print(\"Amplitude: %.2f\" % (np.max(df[coluna])-np.min(df_disp[coluna]))) # .min() .max() no pandas\n",
    "print(\"Variância: %.2f\" % np.var(df_disp[coluna])) # .var() no pandas\n",
    "print(\"Desvio Padrão: %.2f\" % np.std(df_disp[coluna], ddof=1)) # .std() no pandas tem ddof=1 por padrão\n",
    "print(\"Desvio Médio Absoluto: %.2f\" % (df_disp[coluna].mad()))\n",
    "print(\"Desvio Mediano Absoluto: %.2f\" % stats.median_abs_deviation(df_disp[coluna], scale='normal'))\n",
    "print(\"Amplitude interquartílica: %.2f\" % (np.percentile(df_disp[coluna],75)-np.percentile(df_disp[coluna],25)))"
   ]
  },
  {
   "cell_type": "markdown",
   "metadata": {},
   "source": [
    "O desvio padrão pode ser comparado ao desvio mediano absoluto. Observe que o desvio mediano absoluto é menor que o desvio padrão. Isso ocorre porque o desvio padrão é sensível a outliers."
   ]
  },
  {
   "cell_type": "markdown",
   "metadata": {
    "ExecuteTime": {
     "end_time": "2020-11-02T23:38:47.393173Z",
     "start_time": "2020-11-02T23:38:47.391107Z"
    }
   },
   "source": [
    "## 4.0 Distribuição de Dados"
   ]
  },
  {
   "cell_type": "markdown",
   "metadata": {},
   "source": [
    "(1) Boxplot (2) Tabela de Frequências (3) Histograma (4) Gráfico de Densidade"
   ]
  },
  {
   "cell_type": "markdown",
   "metadata": {},
   "source": [
    "### 4.0 Leitura de dados"
   ]
  },
  {
   "cell_type": "code",
   "execution_count": 25,
   "metadata": {
    "ExecuteTime": {
     "end_time": "2020-11-17T00:45:25.428370Z",
     "start_time": "2020-11-17T00:45:25.415698Z"
    }
   },
   "outputs": [
    {
     "data": {
      "text/html": [
       "<div>\n",
       "<style scoped>\n",
       "    .dataframe tbody tr th:only-of-type {\n",
       "        vertical-align: middle;\n",
       "    }\n",
       "\n",
       "    .dataframe tbody tr th {\n",
       "        vertical-align: top;\n",
       "    }\n",
       "\n",
       "    .dataframe thead th {\n",
       "        text-align: right;\n",
       "    }\n",
       "</style>\n",
       "<table border=\"1\" class=\"dataframe\">\n",
       "  <thead>\n",
       "    <tr style=\"text-align: right;\">\n",
       "      <th></th>\n",
       "      <th>Estado</th>\n",
       "      <th>População</th>\n",
       "      <th>Taxa de Homicídio</th>\n",
       "      <th>UF</th>\n",
       "    </tr>\n",
       "  </thead>\n",
       "  <tbody>\n",
       "    <tr>\n",
       "      <th>0</th>\n",
       "      <td>Alabama</td>\n",
       "      <td>4779736</td>\n",
       "      <td>5.7</td>\n",
       "      <td>AL</td>\n",
       "    </tr>\n",
       "    <tr>\n",
       "      <th>1</th>\n",
       "      <td>Alaska</td>\n",
       "      <td>710231</td>\n",
       "      <td>5.6</td>\n",
       "      <td>AK</td>\n",
       "    </tr>\n",
       "    <tr>\n",
       "      <th>2</th>\n",
       "      <td>Arizona</td>\n",
       "      <td>6392017</td>\n",
       "      <td>4.7</td>\n",
       "      <td>AZ</td>\n",
       "    </tr>\n",
       "    <tr>\n",
       "      <th>3</th>\n",
       "      <td>Arkansas</td>\n",
       "      <td>2915918</td>\n",
       "      <td>5.6</td>\n",
       "      <td>AR</td>\n",
       "    </tr>\n",
       "    <tr>\n",
       "      <th>4</th>\n",
       "      <td>California</td>\n",
       "      <td>37253956</td>\n",
       "      <td>4.4</td>\n",
       "      <td>CA</td>\n",
       "    </tr>\n",
       "  </tbody>\n",
       "</table>\n",
       "</div>"
      ],
      "text/plain": [
       "       Estado  População  Taxa de Homicídio  UF\n",
       "0     Alabama    4779736                5.7  AL\n",
       "1      Alaska     710231                5.6  AK\n",
       "2     Arizona    6392017                4.7  AZ\n",
       "3    Arkansas    2915918                5.6  AR\n",
       "4  California   37253956                4.4  CA"
      ]
     },
     "execution_count": 25,
     "metadata": {},
     "output_type": "execute_result"
    }
   ],
   "source": [
    "df_distrib = pd.read_csv('dados/state.csv')\n",
    "df_distrib.columns = ['Estado', 'População', 'Taxa de Homicídio', 'UF']\n",
    "df_distrib.head()"
   ]
  },
  {
   "cell_type": "markdown",
   "metadata": {
    "ExecuteTime": {
     "end_time": "2020-11-17T00:41:37.779642Z",
     "start_time": "2020-11-17T00:41:37.777318Z"
    }
   },
   "source": [
    "### 4.1 Percentil"
   ]
  },
  {
   "cell_type": "code",
   "execution_count": 13,
   "metadata": {
    "ExecuteTime": {
     "end_time": "2020-11-17T00:39:58.814210Z",
     "start_time": "2020-11-17T00:39:58.809059Z"
    }
   },
   "outputs": [
    {
     "data": {
      "text/plain": [
       "array([1.6  , 2.425, 4.   , 5.55 , 6.51 ])"
      ]
     },
     "execution_count": 13,
     "metadata": {},
     "output_type": "execute_result"
    }
   ],
   "source": [
    "np.quantile(df_distrib['Taxa de Homicídio'], q=[0.05, 0.25, 0.5, 0.75, 0.95])"
   ]
  },
  {
   "cell_type": "markdown",
   "metadata": {
    "ExecuteTime": {
     "end_time": "2020-11-17T00:41:49.914335Z",
     "start_time": "2020-11-17T00:41:49.912122Z"
    }
   },
   "source": [
    "### 4.2 Boxplot"
   ]
  },
  {
   "cell_type": "code",
   "execution_count": 14,
   "metadata": {
    "ExecuteTime": {
     "end_time": "2020-11-17T00:39:58.980258Z",
     "start_time": "2020-11-17T00:39:58.815825Z"
    }
   },
   "outputs": [
    {
     "name": "stdout",
     "output_type": "stream",
     "text": [
      "BoxPlot da população (em milhões)\n"
     ]
    },
    {
     "data": {
      "image/png": "[encoded data removed]",
      "text/plain": [
       "<Figure size 432x288 with 1 Axes>"
      ]
     },
     "metadata": {
      "needs_background": "light"
     },
     "output_type": "display_data"
    }
   ],
   "source": [
    "ax = sns.boxplot(x = df_distrib['População']/1e6)\n",
    "ax.set_ylabel('População (em milhões)')\n",
    "print(\"BoxPlot da população (em milhões)\")"
   ]
  },
  {
   "cell_type": "markdown",
   "metadata": {
    "ExecuteTime": {
     "end_time": "2020-11-17T00:42:09.106189Z",
     "start_time": "2020-11-17T00:42:09.104009Z"
    }
   },
   "source": [
    "### 4.3 Tabela de Frequência"
   ]
  },
  {
   "cell_type": "code",
   "execution_count": 15,
   "metadata": {
    "ExecuteTime": {
     "end_time": "2020-11-17T00:39:59.004698Z",
     "start_time": "2020-11-17T00:39:58.982292Z"
    }
   },
   "outputs": [
    {
     "data": {
      "text/html": [
       "<div>\n",
       "<style scoped>\n",
       "    .dataframe tbody tr th:only-of-type {\n",
       "        vertical-align: middle;\n",
       "    }\n",
       "\n",
       "    .dataframe tbody tr th {\n",
       "        vertical-align: top;\n",
       "    }\n",
       "\n",
       "    .dataframe thead th {\n",
       "        text-align: right;\n",
       "    }\n",
       "</style>\n",
       "<table border=\"1\" class=\"dataframe\">\n",
       "  <thead>\n",
       "    <tr style=\"text-align: right;\">\n",
       "      <th></th>\n",
       "      <th>Frequência</th>\n",
       "      <th>Lista de UFs</th>\n",
       "    </tr>\n",
       "    <tr>\n",
       "      <th>Intervalo</th>\n",
       "      <th></th>\n",
       "      <th></th>\n",
       "    </tr>\n",
       "  </thead>\n",
       "  <tbody>\n",
       "    <tr>\n",
       "      <th>(526935.67, 4232659.0]</th>\n",
       "      <td>24</td>\n",
       "      <td>AK AR CT DE HI ID IA KS ME MS MT NE NV NH NM ND OK OR RI SD UT VT WV WY</td>\n",
       "    </tr>\n",
       "    <tr>\n",
       "      <th>(4232659.0, 7901692.0]</th>\n",
       "      <td>14</td>\n",
       "      <td>AL AZ CO IN KY LA MD MA MN MO SC TN WA WI</td>\n",
       "    </tr>\n",
       "    <tr>\n",
       "      <th>(7901692.0, 11570725.0]</th>\n",
       "      <td>6</td>\n",
       "      <td>GA MI NJ NC OH VA</td>\n",
       "    </tr>\n",
       "    <tr>\n",
       "      <th>(11570725.0, 15239758.0]</th>\n",
       "      <td>2</td>\n",
       "      <td>IL PA</td>\n",
       "    </tr>\n",
       "    <tr>\n",
       "      <th>(15239758.0, 18908791.0]</th>\n",
       "      <td>1</td>\n",
       "      <td>FL</td>\n",
       "    </tr>\n",
       "    <tr>\n",
       "      <th>(18908791.0, 22577824.0]</th>\n",
       "      <td>1</td>\n",
       "      <td>NY</td>\n",
       "    </tr>\n",
       "    <tr>\n",
       "      <th>(22577824.0, 26246857.0]</th>\n",
       "      <td>1</td>\n",
       "      <td>TX</td>\n",
       "    </tr>\n",
       "    <tr>\n",
       "      <th>(26246857.0, 29915890.0]</th>\n",
       "      <td>0</td>\n",
       "      <td>None</td>\n",
       "    </tr>\n",
       "    <tr>\n",
       "      <th>(29915890.0, 33584923.0]</th>\n",
       "      <td>0</td>\n",
       "      <td>None</td>\n",
       "    </tr>\n",
       "    <tr>\n",
       "      <th>(33584923.0, 37253956.0]</th>\n",
       "      <td>1</td>\n",
       "      <td>CA</td>\n",
       "    </tr>\n",
       "  </tbody>\n",
       "</table>\n",
       "</div>"
      ],
      "text/plain": [
       "                          Frequência  \\\n",
       "Intervalo                              \n",
       "(526935.67, 4232659.0]            24   \n",
       "(4232659.0, 7901692.0]            14   \n",
       "(7901692.0, 11570725.0]            6   \n",
       "(11570725.0, 15239758.0]           2   \n",
       "(15239758.0, 18908791.0]           1   \n",
       "(18908791.0, 22577824.0]           1   \n",
       "(22577824.0, 26246857.0]           1   \n",
       "(26246857.0, 29915890.0]           0   \n",
       "(29915890.0, 33584923.0]           0   \n",
       "(33584923.0, 37253956.0]           1   \n",
       "\n",
       "                                                                                     Lista de UFs  \n",
       "Intervalo                                                                                          \n",
       "(526935.67, 4232659.0]    AK AR CT DE HI ID IA KS ME MS MT NE NV NH NM ND OK OR RI SD UT VT WV WY  \n",
       "(4232659.0, 7901692.0]                                  AL AZ CO IN KY LA MD MA MN MO SC TN WA WI  \n",
       "(7901692.0, 11570725.0]                                                         GA MI NJ NC OH VA  \n",
       "(11570725.0, 15239758.0]                                                                    IL PA  \n",
       "(15239758.0, 18908791.0]                                                                       FL  \n",
       "(18908791.0, 22577824.0]                                                                       NY  \n",
       "(22577824.0, 26246857.0]                                                                       TX  \n",
       "(26246857.0, 29915890.0]                                                                     None  \n",
       "(29915890.0, 33584923.0]                                                                     None  \n",
       "(33584923.0, 37253956.0]                                                                       CA  "
      ]
     },
     "execution_count": 15,
     "metadata": {},
     "output_type": "execute_result"
    }
   ],
   "source": [
    "pd.set_option('display.max_colwidth', 100)\n",
    "#--\n",
    "bins = pd.cut(df_distrib['População'], 10)\n",
    "df_ft = pd.merge(df_distrib, bins, how='inner', left_index=True, right_index=True)\n",
    "df_ft.rename(columns={'População_y':'Intervalo'}, inplace=True)\n",
    "df_ft\n",
    "df_ft.groupby('Intervalo').agg({'Intervalo': 'count', 'UF': ' '.join}).rename(columns={'Intervalo':'Frequência', 'UF':'Lista de UFs'})"
   ]
  },
  {
   "cell_type": "markdown",
   "metadata": {
    "ExecuteTime": {
     "end_time": "2020-11-17T00:42:43.464414Z",
     "start_time": "2020-11-17T00:42:43.462283Z"
    }
   },
   "source": [
    "### 4.4 Histograma"
   ]
  },
  {
   "cell_type": "code",
   "execution_count": 24,
   "metadata": {
    "ExecuteTime": {
     "end_time": "2020-11-17T00:44:58.881851Z",
     "start_time": "2020-11-17T00:44:58.696665Z"
    }
   },
   "outputs": [
    {
     "data": {
      "image/png": "[encoded data removed]",
      "text/plain": [
       "<Figure size 288x288 with 1 Axes>"
      ]
     },
     "metadata": {
      "needs_background": "light"
     },
     "output_type": "display_data"
    }
   ],
   "source": [
    "ax = (df_distrib['População']/1_000_000).plot.hist(figsize=(4,4))\n",
    "ax.set_xlabel('População (em milhões)');\n",
    "ax.set_ylabel('Frequência');"
   ]
  },
  {
   "cell_type": "markdown",
   "metadata": {
    "ExecuteTime": {
     "end_time": "2020-11-17T00:42:53.232414Z",
     "start_time": "2020-11-17T00:42:53.230249Z"
    }
   },
   "source": [
    "### 4.5 Gráfico de Densidade"
   ]
  },
  {
   "cell_type": "code",
   "execution_count": 28,
   "metadata": {
    "ExecuteTime": {
     "end_time": "2020-11-17T00:47:04.012966Z",
     "start_time": "2020-11-17T00:47:03.780277Z"
    }
   },
   "outputs": [
    {
     "data": {
      "image/png": "[encoded data removed]",
      "text/plain": [
       "<Figure size 432x288 with 1 Axes>"
      ]
     },
     "metadata": {
      "needs_background": "light"
     },
     "output_type": "display_data"
    }
   ],
   "source": [
    "ax = df_distrib['Taxa de Homicídio'].plot.hist(density=True, xlim=[0,12], bins=range(1,12))\n",
    "df_distrib['Taxa de Homicídio'].plot.density(ax=ax)\n",
    "ax.set_xlabel('Taxa de Homicídio (por 100,000)')\n",
    "ax.set_ylabel('Densidade');"
   ]
  },
  {
   "cell_type": "markdown",
   "metadata": {
    "ExecuteTime": {
     "end_time": "2020-11-17T00:49:00.522811Z",
     "start_time": "2020-11-17T00:49:00.520757Z"
    }
   },
   "source": [
    "## 5.0 Dados binários e Categóricos"
   ]
  },
  {
   "cell_type": "raw",
   "metadata": {
    "ExecuteTime": {
     "end_time": "2020-11-17T00:49:38.777657Z",
     "start_time": "2020-11-17T00:49:38.773741Z"
    }
   },
   "source": [
    "(1) Moda (2) Valor Esperado (3) Gráfico de Barras (4) Gráfico de Pizza"
   ]
  },
  {
   "cell_type": "code",
   "execution_count": null,
   "metadata": {},
   "outputs": [],
   "source": []
  }
 ],
 "metadata": {
  "kernelspec": {
   "display_name": "Python [conda env:dsp] *",
   "language": "python",
   "name": "conda-env-dsp-py"
  },
  "language_info": {
   "codemirror_mode": {
    "name": "ipython",
    "version": 3
   },
   "file_extension": ".py",
   "mimetype": "text/x-python",
   "name": "python",
   "nbconvert_exporter": "python",
   "pygments_lexer": "ipython3",
   "version": "3.8.5"
  }
 },
 "nbformat": 4,
 "nbformat_minor": 4
}
