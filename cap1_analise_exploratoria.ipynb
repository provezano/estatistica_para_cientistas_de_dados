{
 "cells": [
  {
   "cell_type": "markdown",
   "metadata": {
    "ExecuteTime": {
     "end_time": "2020-11-02T16:59:13.704136Z",
     "start_time": "2020-11-02T16:59:13.701022Z"
    }
   },
   "source": [
    "## Bibliotecas"
   ]
  },
  {
   "cell_type": "code",
   "execution_count": 1,
   "metadata": {
    "ExecuteTime": {
     "end_time": "2020-11-02T18:18:00.008932Z",
     "start_time": "2020-11-02T18:17:59.049796Z"
    }
   },
   "outputs": [],
   "source": [
    "import numpy as np\n",
    "import pandas as pd\n",
    "import seaborn as sns\n",
    "from scipy import stats\n",
    "import weightedstats as ws\n",
    "import matplotlib.pyplot as plt"
   ]
  },
  {
   "cell_type": "markdown",
   "metadata": {
    "ExecuteTime": {
     "end_time": "2020-11-02T17:26:24.740732Z",
     "start_time": "2020-11-02T17:26:24.738449Z"
    }
   },
   "source": [
    "## 1.0 Leitura de Dados"
   ]
  },
  {
   "cell_type": "code",
   "execution_count": 2,
   "metadata": {
    "ExecuteTime": {
     "end_time": "2020-11-02T18:18:00.019192Z",
     "start_time": "2020-11-02T18:18:00.011250Z"
    }
   },
   "outputs": [],
   "source": [
    "df = pd.read_csv('dados/state.csv')\n",
    "df.columns = ['Estado', 'População', 'Taxa de Homicídio', 'UF']"
   ]
  },
  {
   "cell_type": "markdown",
   "metadata": {
    "ExecuteTime": {
     "end_time": "2020-11-02T17:29:07.181697Z",
     "start_time": "2020-11-02T17:29:07.179338Z"
    }
   },
   "source": [
    "## 1.1 Dimensões"
   ]
  },
  {
   "cell_type": "code",
   "execution_count": 3,
   "metadata": {
    "ExecuteTime": {
     "end_time": "2020-11-02T18:18:00.026556Z",
     "start_time": "2020-11-02T18:18:00.022855Z"
    }
   },
   "outputs": [
    {
     "name": "stdout",
     "output_type": "stream",
     "text": [
      "A base de dados possui 50 linhas e 4 colunas\n"
     ]
    }
   ],
   "source": [
    "print(\"A base de dados possui %d linhas e %d colunas\" % (df.shape))"
   ]
  },
  {
   "cell_type": "markdown",
   "metadata": {
    "ExecuteTime": {
     "end_time": "2020-11-02T17:29:59.164505Z",
     "start_time": "2020-11-02T17:29:59.161898Z"
    }
   },
   "source": [
    "## 1.2 Tipo de Dados"
   ]
  },
  {
   "cell_type": "code",
   "execution_count": 4,
   "metadata": {
    "ExecuteTime": {
     "end_time": "2020-11-02T18:18:00.036442Z",
     "start_time": "2020-11-02T18:18:00.029300Z"
    }
   },
   "outputs": [
    {
     "name": "stdout",
     "output_type": "stream",
     "text": [
      "O tipo de dados em cada coluna da base estão listados a seguir:\n"
     ]
    },
    {
     "data": {
      "text/plain": [
       "Estado                object\n",
       "População              int64\n",
       "Taxa de Homicídio    float64\n",
       "UF                    object\n",
       "dtype: object"
      ]
     },
     "execution_count": 4,
     "metadata": {},
     "output_type": "execute_result"
    }
   ],
   "source": [
    "print(\"O tipo de dados em cada coluna da base estão listados a seguir:\")\n",
    "df.dtypes"
   ]
  },
  {
   "cell_type": "markdown",
   "metadata": {},
   "source": [
    "## 2.0 Medidas de tendência central"
   ]
  },
  {
   "cell_type": "markdown",
   "metadata": {},
   "source": [
    "Essa seção contém exemplos de 6 medidas de tendência central.\n",
    "\n",
    "(1) Média\n",
    "(2) Média truncada\n",
    "(2) Média ponderada\n",
    "(3) Mediana\n",
    "(4) Mediana ponderada\n",
    "(5) Moda"
   ]
  },
  {
   "cell_type": "code",
   "execution_count": 5,
   "metadata": {
    "ExecuteTime": {
     "end_time": "2020-11-02T18:18:00.043491Z",
     "start_time": "2020-11-02T18:18:00.038396Z"
    }
   },
   "outputs": [
    {
     "name": "stdout",
     "output_type": "stream",
     "text": [
      "Coluna: População\n",
      "-- -- --\n",
      "Média: 6162876.30\n",
      "Média aparada: 4783697.12\n",
      "Mediana: 4436369.50\n"
     ]
    }
   ],
   "source": [
    "coluna = \"População\"\n",
    "\n",
    "print(\"Coluna:\", coluna)\n",
    "print(\"-- -- --\")\n",
    "print(\"Média: %.2f\" % np.mean(df[coluna]))\n",
    "print(\"Média aparada: %.2f\" % stats.trim_mean(df[coluna], proportiontocut=0.1))\n",
    "print(\"Mediana: %.2f\" % np.median(df[coluna]))"
   ]
  },
  {
   "cell_type": "code",
   "execution_count": 6,
   "metadata": {
    "ExecuteTime": {
     "end_time": "2020-11-02T18:18:00.053946Z",
     "start_time": "2020-11-02T18:18:00.045598Z"
    }
   },
   "outputs": [
    {
     "name": "stdout",
     "output_type": "stream",
     "text": [
      "Coluna: Taxa de Homicídio\n",
      "-- -- --\n",
      "Média: 4.07\n",
      "Média aparada: 3.95\n",
      "Mediana: 4.00\n",
      "-- -- --\n",
      "-- Ponderada pela coluna População\n",
      "-- -- --\n",
      "Média Ponderada: 4.45\n",
      "Mediana Ponderada: 4.40\n",
      "-- -- --\n"
     ]
    }
   ],
   "source": [
    "coluna = \"Taxa de Homicídio\"\n",
    "\n",
    "print(\"Coluna:\", coluna)\n",
    "print(\"-- -- --\")\n",
    "print(\"Média: %.2f\" % np.mean(df[coluna]))\n",
    "print(\"Média aparada: %.2f\" % stats.trim_mean(df[coluna], proportiontocut=0.1))\n",
    "print(\"Mediana: %.2f\" % np.median(df[coluna]))\n",
    "print(\"-- -- --\")\n",
    "print(\"-- Ponderada pela coluna População\")\n",
    "print(\"-- -- --\")\n",
    "print(\"Média Ponderada: %.2f\" % np.average(df[coluna], weights = df['População']))\n",
    "print(\"Mediana Ponderada: %.2f\" % ws.weighted_median(df[coluna], weights = df['População']))\n",
    "print(\"-- -- --\")"
   ]
  },
  {
   "cell_type": "code",
   "execution_count": 7,
   "metadata": {
    "ExecuteTime": {
     "end_time": "2020-11-02T18:18:00.063146Z",
     "start_time": "2020-11-02T18:18:00.056828Z"
    }
   },
   "outputs": [
    {
     "name": "stdout",
     "output_type": "stream",
     "text": [
      "Moda: 2.0\n",
      "Contagem: 13\n"
     ]
    }
   ],
   "source": [
    "df['TH_Arrend'] = round(df['Taxa de Homicídio'], 0)\n",
    "print(\"Moda:\", stats.mode((df['TH_Arrend']))[0][0])\n",
    "print(\"Contagem:\", stats.mode((df['TH_Arrend']))[1][0])"
   ]
  },
  {
   "cell_type": "markdown",
   "metadata": {},
   "source": [
    "## 3.0 Visualização de distruição de dados"
   ]
  },
  {
   "cell_type": "code",
   "execution_count": 8,
   "metadata": {
    "ExecuteTime": {
     "end_time": "2020-11-02T18:18:00.380697Z",
     "start_time": "2020-11-02T18:18:00.068979Z"
    }
   },
   "outputs": [
    {
     "name": "stdout",
     "output_type": "stream",
     "text": [
      "Distribuição e dados da coluna: População\n"
     ]
    },
    {
     "data": {
      "image/png": "[encoded data removed]",
      "text/plain": [
       "<Figure size 432x288 with 1 Axes>"
      ]
     },
     "metadata": {
      "needs_background": "light"
     },
     "output_type": "display_data"
    }
   ],
   "source": [
    "coluna = \"População\"\n",
    "\n",
    "ax = sns.histplot(df[coluna])\n",
    "\n",
    "ax.axvline(np.mean(df[coluna]), 0, 1.6, color='b')\n",
    "ax.axvline(np.median(df[coluna]), 0, 1.6, color='r')\n",
    "plt.xlim(0, df[coluna].max())\n",
    "\n",
    "print(\"Distribuição e dados da coluna:\", coluna)"
   ]
  },
  {
   "cell_type": "code",
   "execution_count": 9,
   "metadata": {
    "ExecuteTime": {
     "end_time": "2020-11-02T18:18:00.638508Z",
     "start_time": "2020-11-02T18:18:00.383483Z"
    }
   },
   "outputs": [
    {
     "name": "stdout",
     "output_type": "stream",
     "text": [
      "Distribuição e dados da coluna: Taxa de Homicídio\n"
     ]
    },
    {
     "data": {
      "image/png": "[encoded data removed]",
      "text/plain": [
       "<Figure size 432x288 with 1 Axes>"
      ]
     },
     "metadata": {
      "needs_background": "light"
     },
     "output_type": "display_data"
    }
   ],
   "source": [
    "coluna = \"Taxa de Homicídio\"\n",
    "\n",
    "ax = sns.histplot(df[coluna])\n",
    "\n",
    "ax.axvline(np.mean(df[coluna]), 0, 1.6, color='b')\n",
    "ax.axvline(np.median(df[coluna]), 0, 1.6, color='r')\n",
    "plt.xlim(0, df[coluna].max())\n",
    "\n",
    "print(\"Distribuição e dados da coluna:\", coluna)"
   ]
  }
 ],
 "metadata": {
  "kernelspec": {
   "display_name": "Python [conda env:dsp] *",
   "language": "python",
   "name": "conda-env-dsp-py"
  },
  "language_info": {
   "codemirror_mode": {
    "name": "ipython",
    "version": 3
   },
   "file_extension": ".py",
   "mimetype": "text/x-python",
   "name": "python",
   "nbconvert_exporter": "python",
   "pygments_lexer": "ipython3",
   "version": "3.8.5"
  }
 },
 "nbformat": 4,
 "nbformat_minor": 4
}
